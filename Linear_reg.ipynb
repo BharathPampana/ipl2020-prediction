{
 "cells": [
  {
   "cell_type": "code",
   "execution_count": 34,
   "metadata": {},
   "outputs": [],
   "source": [
    "import numpy as np\n",
    "import pandas as p\n",
    "from sklearn.linear_model import LinearRegression\n",
    "from sklearn.metrics import mean_squared_error, r2_score\n",
    "from sklearn import metrics\n",
    "import matplotlib.pyplot as plt"
   ]
  },
  {
   "cell_type": "raw",
   "metadata": {},
   "source": [
    "#Look at the data and how they are correlated"
   ]
  },
  {
   "cell_type": "code",
   "execution_count": 52,
   "metadata": {},
   "outputs": [
    {
     "name": "stdout",
     "output_type": "stream",
     "text": [
      "    Mat  Inns  NO  2018_Runs   HS    Avg   BF      SR  100  50  4s  6s  \\\n",
      "0    10     9   1        134   46  16.75  100  134.00    0   0   6   8   \n",
      "1    12    11   2        480  90*  53.33  275  174.54    0   6  39  30   \n",
      "2     3     3   2         63  46*     63   33  190.90    0   0   3   5   \n",
      "3    15    14   1        370  65*  28.46  313  118.21    0   1  39   5   \n",
      "4     6     6   0        148   45  24.66  118  125.42    0   0  13   6   \n",
      "..  ...   ...  ..        ...  ...    ...  ...     ...  ...  ..  ..  ..   \n",
      "95   14    14   3        530  92*  48.18  381  139.10    0   4  52  18   \n",
      "96    7     6   3         65   35  21.66   38  171.05    0   0   5   4   \n",
      "97   11    10   2        122   35  15.25  102  119.60    0   0  17   1   \n",
      "98   15    13   4        260  45*  28.88  200  130.00    0   0  22  11   \n",
      "99    8     6   0         65   20  10.83   73   89.04    0   0   6   2   \n",
      "\n",
      "    2019_Runs  \n",
      "0         160  \n",
      "1         424  \n",
      "2          63  \n",
      "3         396  \n",
      "4         165  \n",
      "..        ...  \n",
      "95        488  \n",
      "96         64  \n",
      "97        115  \n",
      "98        296  \n",
      "99         67  \n",
      "\n",
      "[100 rows x 13 columns]\n"
     ]
    },
    {
     "data": {
      "text/html": [
       "<div>\n",
       "<style scoped>\n",
       "    .dataframe tbody tr th:only-of-type {\n",
       "        vertical-align: middle;\n",
       "    }\n",
       "\n",
       "    .dataframe tbody tr th {\n",
       "        vertical-align: top;\n",
       "    }\n",
       "\n",
       "    .dataframe thead th {\n",
       "        text-align: right;\n",
       "    }\n",
       "</style>\n",
       "<table border=\"1\" class=\"dataframe\">\n",
       "  <thead>\n",
       "    <tr style=\"text-align: right;\">\n",
       "      <th></th>\n",
       "      <th>Mat</th>\n",
       "      <th>Inns</th>\n",
       "      <th>NO</th>\n",
       "      <th>2018_Runs</th>\n",
       "      <th>BF</th>\n",
       "      <th>SR</th>\n",
       "      <th>100</th>\n",
       "      <th>50</th>\n",
       "      <th>4s</th>\n",
       "      <th>6s</th>\n",
       "      <th>2019_Runs</th>\n",
       "    </tr>\n",
       "  </thead>\n",
       "  <tbody>\n",
       "    <tr>\n",
       "      <td>Mat</td>\n",
       "      <td>1.000000</td>\n",
       "      <td>0.817313</td>\n",
       "      <td>0.419649</td>\n",
       "      <td>0.621583</td>\n",
       "      <td>0.627702</td>\n",
       "      <td>0.229214</td>\n",
       "      <td>0.163470</td>\n",
       "      <td>0.464256</td>\n",
       "      <td>0.579464</td>\n",
       "      <td>0.552993</td>\n",
       "      <td>0.646824</td>\n",
       "    </tr>\n",
       "    <tr>\n",
       "      <td>Inns</td>\n",
       "      <td>0.817313</td>\n",
       "      <td>1.000000</td>\n",
       "      <td>0.331445</td>\n",
       "      <td>0.854712</td>\n",
       "      <td>0.866806</td>\n",
       "      <td>0.202235</td>\n",
       "      <td>0.236876</td>\n",
       "      <td>0.648895</td>\n",
       "      <td>0.804345</td>\n",
       "      <td>0.758132</td>\n",
       "      <td>0.888672</td>\n",
       "    </tr>\n",
       "    <tr>\n",
       "      <td>NO</td>\n",
       "      <td>0.419649</td>\n",
       "      <td>0.331445</td>\n",
       "      <td>1.000000</td>\n",
       "      <td>0.194659</td>\n",
       "      <td>0.182913</td>\n",
       "      <td>0.098253</td>\n",
       "      <td>-0.044807</td>\n",
       "      <td>0.143256</td>\n",
       "      <td>0.099879</td>\n",
       "      <td>0.182424</td>\n",
       "      <td>0.194198</td>\n",
       "    </tr>\n",
       "    <tr>\n",
       "      <td>2018_Runs</td>\n",
       "      <td>0.621583</td>\n",
       "      <td>0.854712</td>\n",
       "      <td>0.194659</td>\n",
       "      <td>1.000000</td>\n",
       "      <td>0.987540</td>\n",
       "      <td>0.288853</td>\n",
       "      <td>0.385389</td>\n",
       "      <td>0.892745</td>\n",
       "      <td>0.965879</td>\n",
       "      <td>0.899565</td>\n",
       "      <td>0.987421</td>\n",
       "    </tr>\n",
       "    <tr>\n",
       "      <td>BF</td>\n",
       "      <td>0.627702</td>\n",
       "      <td>0.866806</td>\n",
       "      <td>0.182913</td>\n",
       "      <td>0.987540</td>\n",
       "      <td>1.000000</td>\n",
       "      <td>0.206185</td>\n",
       "      <td>0.341548</td>\n",
       "      <td>0.873875</td>\n",
       "      <td>0.960262</td>\n",
       "      <td>0.841958</td>\n",
       "      <td>0.981748</td>\n",
       "    </tr>\n",
       "    <tr>\n",
       "      <td>SR</td>\n",
       "      <td>0.229214</td>\n",
       "      <td>0.202235</td>\n",
       "      <td>0.098253</td>\n",
       "      <td>0.288853</td>\n",
       "      <td>0.206185</td>\n",
       "      <td>1.000000</td>\n",
       "      <td>0.131994</td>\n",
       "      <td>0.233898</td>\n",
       "      <td>0.250981</td>\n",
       "      <td>0.403443</td>\n",
       "      <td>0.296458</td>\n",
       "    </tr>\n",
       "    <tr>\n",
       "      <td>100</td>\n",
       "      <td>0.163470</td>\n",
       "      <td>0.236876</td>\n",
       "      <td>-0.044807</td>\n",
       "      <td>0.385389</td>\n",
       "      <td>0.341548</td>\n",
       "      <td>0.131994</td>\n",
       "      <td>1.000000</td>\n",
       "      <td>0.234382</td>\n",
       "      <td>0.340299</td>\n",
       "      <td>0.513705</td>\n",
       "      <td>0.358404</td>\n",
       "    </tr>\n",
       "    <tr>\n",
       "      <td>50</td>\n",
       "      <td>0.464256</td>\n",
       "      <td>0.648895</td>\n",
       "      <td>0.143256</td>\n",
       "      <td>0.892745</td>\n",
       "      <td>0.873875</td>\n",
       "      <td>0.233898</td>\n",
       "      <td>0.234382</td>\n",
       "      <td>1.000000</td>\n",
       "      <td>0.871870</td>\n",
       "      <td>0.781615</td>\n",
       "      <td>0.857904</td>\n",
       "    </tr>\n",
       "    <tr>\n",
       "      <td>4s</td>\n",
       "      <td>0.579464</td>\n",
       "      <td>0.804345</td>\n",
       "      <td>0.099879</td>\n",
       "      <td>0.965879</td>\n",
       "      <td>0.960262</td>\n",
       "      <td>0.250981</td>\n",
       "      <td>0.340299</td>\n",
       "      <td>0.871870</td>\n",
       "      <td>1.000000</td>\n",
       "      <td>0.802931</td>\n",
       "      <td>0.945255</td>\n",
       "    </tr>\n",
       "    <tr>\n",
       "      <td>6s</td>\n",
       "      <td>0.552993</td>\n",
       "      <td>0.758132</td>\n",
       "      <td>0.182424</td>\n",
       "      <td>0.899565</td>\n",
       "      <td>0.841958</td>\n",
       "      <td>0.403443</td>\n",
       "      <td>0.513705</td>\n",
       "      <td>0.781615</td>\n",
       "      <td>0.802931</td>\n",
       "      <td>1.000000</td>\n",
       "      <td>0.891109</td>\n",
       "    </tr>\n",
       "    <tr>\n",
       "      <td>2019_Runs</td>\n",
       "      <td>0.646824</td>\n",
       "      <td>0.888672</td>\n",
       "      <td>0.194198</td>\n",
       "      <td>0.987421</td>\n",
       "      <td>0.981748</td>\n",
       "      <td>0.296458</td>\n",
       "      <td>0.358404</td>\n",
       "      <td>0.857904</td>\n",
       "      <td>0.945255</td>\n",
       "      <td>0.891109</td>\n",
       "      <td>1.000000</td>\n",
       "    </tr>\n",
       "  </tbody>\n",
       "</table>\n",
       "</div>"
      ],
      "text/plain": [
       "                Mat      Inns        NO  2018_Runs        BF        SR  \\\n",
       "Mat        1.000000  0.817313  0.419649   0.621583  0.627702  0.229214   \n",
       "Inns       0.817313  1.000000  0.331445   0.854712  0.866806  0.202235   \n",
       "NO         0.419649  0.331445  1.000000   0.194659  0.182913  0.098253   \n",
       "2018_Runs  0.621583  0.854712  0.194659   1.000000  0.987540  0.288853   \n",
       "BF         0.627702  0.866806  0.182913   0.987540  1.000000  0.206185   \n",
       "SR         0.229214  0.202235  0.098253   0.288853  0.206185  1.000000   \n",
       "100        0.163470  0.236876 -0.044807   0.385389  0.341548  0.131994   \n",
       "50         0.464256  0.648895  0.143256   0.892745  0.873875  0.233898   \n",
       "4s         0.579464  0.804345  0.099879   0.965879  0.960262  0.250981   \n",
       "6s         0.552993  0.758132  0.182424   0.899565  0.841958  0.403443   \n",
       "2019_Runs  0.646824  0.888672  0.194198   0.987421  0.981748  0.296458   \n",
       "\n",
       "                100        50        4s        6s  2019_Runs  \n",
       "Mat        0.163470  0.464256  0.579464  0.552993   0.646824  \n",
       "Inns       0.236876  0.648895  0.804345  0.758132   0.888672  \n",
       "NO        -0.044807  0.143256  0.099879  0.182424   0.194198  \n",
       "2018_Runs  0.385389  0.892745  0.965879  0.899565   0.987421  \n",
       "BF         0.341548  0.873875  0.960262  0.841958   0.981748  \n",
       "SR         0.131994  0.233898  0.250981  0.403443   0.296458  \n",
       "100        1.000000  0.234382  0.340299  0.513705   0.358404  \n",
       "50         0.234382  1.000000  0.871870  0.781615   0.857904  \n",
       "4s         0.340299  0.871870  1.000000  0.802931   0.945255  \n",
       "6s         0.513705  0.781615  0.802931  1.000000   0.891109  \n",
       "2019_Runs  0.358404  0.857904  0.945255  0.891109   1.000000  "
      ]
     },
     "execution_count": 52,
     "metadata": {},
     "output_type": "execute_result"
    }
   ],
   "source": [
    "df = p.read_csv(\"train.csv\")\n",
    "print(df)\n",
    "df.corr()"
   ]
  },
  {
   "cell_type": "raw",
   "metadata": {},
   "source": [
    "# After looking at the correlation matrix cleaned the data set and divided the dependent and independent labeled data for training as x_data and y_data. "
   ]
  },
  {
   "cell_type": "code",
   "execution_count": 44,
   "metadata": {},
   "outputs": [
    {
     "name": "stdout",
     "output_type": "stream",
     "text": [
      "(100, 10)\n",
      "(100, 1)\n"
     ]
    },
    {
     "data": {
      "text/plain": [
       "Mat          int64\n",
       "Inns         int64\n",
       "NO           int64\n",
       "2018_Runs    int64\n",
       "HS           int64\n",
       "BF           int64\n",
       "100          int64\n",
       "50           int64\n",
       "4s           int64\n",
       "6s           int64\n",
       "dtype: object"
      ]
     },
     "execution_count": 44,
     "metadata": {},
     "output_type": "execute_result"
    }
   ],
   "source": [
    "df1  = p.read_csv(\"x_data.csv\")\n",
    "df2  = p.read_csv(\"y_data.csv\")\n",
    "X = np.array(df1)\n",
    "y = np.array(df2)\n",
    "print(X.shape)\n",
    "print(y.shape)\n",
    "df1.dtypes"
   ]
  },
  {
   "cell_type": "raw",
   "metadata": {},
   "source": [
    "importing the Linear model from the sklearn."
   ]
  },
  {
   "cell_type": "code",
   "execution_count": 45,
   "metadata": {},
   "outputs": [
    {
     "data": {
      "text/plain": [
       "LinearRegression(copy_X=True, fit_intercept=True, n_jobs=None, normalize=False)"
      ]
     },
     "execution_count": 45,
     "metadata": {},
     "output_type": "execute_result"
    }
   ],
   "source": [
    "from sklearn.linear_model import LinearRegression \n",
    "regressor = LinearRegression()\n",
    "regressor.fit(X, y)"
   ]
  },
  {
   "cell_type": "code",
   "execution_count": 46,
   "metadata": {},
   "outputs": [
    {
     "data": {
      "text/plain": [
       "0.9861435684036365"
      ]
     },
     "execution_count": 46,
     "metadata": {},
     "output_type": "execute_result"
    }
   ],
   "source": [
    "regressor.score(X,y)"
   ]
  },
  {
   "cell_type": "code",
   "execution_count": 50,
   "metadata": {},
   "outputs": [],
   "source": [
    "y_pred = regressor.predict(X)"
   ]
  },
  {
   "cell_type": "code",
   "execution_count": 51,
   "metadata": {},
   "outputs": [
    {
     "name": "stdout",
     "output_type": "stream",
     "text": [
      "Mean absolute error : 15.854795139063024\n",
      "Mean squared error : 412.03141909700105\n",
      "Root Mean squared error : 20.298557069333796\n"
     ]
    }
   ],
   "source": [
    "print('Mean absolute error :', metrics.mean_absolute_error(y,y_pred))\n",
    "print('Mean squared error :', metrics.mean_squared_error(y,y_pred))\n",
    "print('Root Mean squared error :',np.sqrt(metrics.mean_squared_error(y,y_pred)))"
   ]
  },
  {
   "cell_type": "raw",
   "metadata": {},
   "source": [
    "Now on testing on test set for predicting 2020 ipl runs."
   ]
  },
  {
   "cell_type": "code",
   "execution_count": 75,
   "metadata": {},
   "outputs": [
    {
     "ename": "TypeError",
     "evalue": "'tuple' object cannot be interpreted as an integer",
     "output_type": "error",
     "traceback": [
      "\u001b[1;31m---------------------------------------------------------------------------\u001b[0m",
      "\u001b[1;31mTypeError\u001b[0m                                 Traceback (most recent call last)",
      "\u001b[1;32m<ipython-input-75-1509e7e09218>\u001b[0m in \u001b[0;36m<module>\u001b[1;34m\u001b[0m\n\u001b[0;32m      4\u001b[0m \u001b[0mtest_pred\u001b[0m \u001b[1;33m=\u001b[0m \u001b[0mnp\u001b[0m\u001b[1;33m.\u001b[0m\u001b[0marray\u001b[0m\u001b[1;33m(\u001b[0m\u001b[0my_test_pred\u001b[0m\u001b[1;33m)\u001b[0m\u001b[1;33m\u001b[0m\u001b[1;33m\u001b[0m\u001b[0m\n\u001b[0;32m      5\u001b[0m \u001b[0mx\u001b[0m \u001b[1;33m=\u001b[0m \u001b[0mtest_pred\u001b[0m\u001b[1;33m.\u001b[0m\u001b[0mshape\u001b[0m\u001b[1;33m\u001b[0m\u001b[1;33m\u001b[0m\u001b[0m\n\u001b[1;32m----> 6\u001b[1;33m \u001b[1;32mfor\u001b[0m \u001b[0mx\u001b[0m \u001b[1;32min\u001b[0m \u001b[0mrange\u001b[0m\u001b[1;33m(\u001b[0m\u001b[0mx\u001b[0m\u001b[1;33m)\u001b[0m\u001b[1;33m:\u001b[0m\u001b[1;33m\u001b[0m\u001b[1;33m\u001b[0m\u001b[0m\n\u001b[0m\u001b[0;32m      7\u001b[0m     \u001b[1;32mif\u001b[0m \u001b[0mtest_pred\u001b[0m\u001b[1;33m[\u001b[0m\u001b[0mx\u001b[0m\u001b[1;33m]\u001b[0m\u001b[1;33m<\u001b[0m\u001b[1;36m0\u001b[0m\u001b[1;33m:\u001b[0m\u001b[1;33m\u001b[0m\u001b[1;33m\u001b[0m\u001b[0m\n\u001b[0;32m      8\u001b[0m         \u001b[0mtest_pred\u001b[0m\u001b[1;33m[\u001b[0m\u001b[0mx\u001b[0m\u001b[1;33m]\u001b[0m\u001b[1;33m=\u001b[0m\u001b[1;36m0\u001b[0m\u001b[1;33m\u001b[0m\u001b[1;33m\u001b[0m\u001b[0m\n",
      "\u001b[1;31mTypeError\u001b[0m: 'tuple' object cannot be interpreted as an integer"
     ]
    }
   ],
   "source": [
    "df3 = p.read_csv(\"test.csv\")\n",
    "x_test = np.array(df3)\n",
    "y_test_pred = regressor.predict(x_test)\n",
    "test_pred = np.array(y_test_pred)\n",
    "x = test_pred.shape\n",
    "for x in range(x):\n",
    "    if test_pred[x]<0:\n",
    "        test_pred[x]=0"
   ]
  },
  {
   "cell_type": "code",
   "execution_count": 69,
   "metadata": {},
   "outputs": [
    {
     "name": "stdout",
     "output_type": "stream",
     "text": [
      "[581.95316878]\n"
     ]
    }
   ],
   "source": [
    "print(test_pred[0])"
   ]
  },
  {
   "cell_type": "code",
   "execution_count": null,
   "metadata": {},
   "outputs": [],
   "source": [
    "David Warner\n",
    "KL Rahul\n",
    "Quinton de Kock\n",
    "Shikhar Dhawan\n",
    "Andre Russell\n",
    "Chris Gayle\n",
    "Rishabh Pant\n",
    "Virat Kohli\n",
    "Shreyas Iyer\n",
    "Jonny Bairstow\n",
    "AB de Villiers\n",
    "Suryakumar Yadav\n",
    "MS Dhoni\n",
    "Chris Lynn\n",
    "Rohit Sharma\n",
    "Hardik Pandya\n",
    "Shane Watson\n",
    "Faf du Plessis\n",
    "Ajinkya Rahane\n",
    "Suresh Raina\n",
    "Parthiv Patel\n",
    "Prithvi Shaw\n",
    "Manish Pandey\n",
    "Nitish Rana\n",
    "Sanju Samson\n",
    "Mayank Agarwal\n",
    "Steve Smith\n",
    "Jos Buttler\n",
    "Shubman Gill\n",
    "Ambati Rayudu\n",
    "Robin Uthappa\n",
    "Kieron Pollard\n",
    "Dinesh Karthik\n",
    "Vijay Shankar\n",
    "Moeen Ali\n",
    "David Miller\n",
    "Marcus Stoinis\n",
    "Colin Ingram\n",
    "Krunal Pandya\n",
    "Sarfaraz Khan\n",
    "Nicholas Pooran\n",
    "Mandeep Singh\n",
    "Kedar Jadhav\n",
    "Riyan Parag\n",
    "Kane Williamson\n",
    "Sunil Narine\n",
    "Rahul Tripathi\n",
    "Ben Stokes\n",
    "Mohammad Nabi\n",
    "Axar Patel\n",
    "Ravindra Jadeja\n",
    "Ishan Kishan\n",
    "Yuvraj Singh\n",
    "Gurkeerat Mann Singh\n",
    "Sam Curran\n",
    "Shimron Hetmyer\n",
    "Wriddhiman Saha\n",
    "Colin Munro\n",
    "Martin Guptill\n",
    "Dwayne Bravo\n",
    "Sherfane Rutherford\n",
    "Liam Livingstone\n",
    "Stuart Binny\n",
    "Jofra Archer\n",
    "Deepak Hooda\n",
    "Murali Vijay\n",
    "Shreyas Gopal\n",
    "Akshdeep Nath\n",
    "Evin Lewis\n",
    "Colin de Grandhomme\n",
    "Piyush Chawla\n",
    "Ravichandran Ashwin\n",
    "Shivam Dube\n",
    "Yusuf Pathan\n",
    "Rinku Singh\n",
    "Rashid Khan\n",
    "Chris Morris\n",
    "Mitchell Santner\n",
    "Rahul Tewatia\n",
    "Umesh Yadav\n",
    "Amit Mishra\n",
    "Harpreet Brar\n",
    "Prayas Ray Barman\n",
    "Keemo Paul\n",
    "Ben Cutting\n",
    "Krishnappa Gowtham\n",
    "Simran Singh\n",
    "Alzarri Joseph\n",
    "Siddhesh Lad\n",
    "Shardul Thakur\n",
    "Kagiso Rabada\n",
    "Bhuvneshwar Kumar\n",
    "Kuldeep Yadav\n",
    "Rahul Chahar\n",
    "Mitchell McClenaghan\n",
    "Carlos Brathwaite\n",
    "Ishant Sharma\n",
    "Shakib Al Hasan\n",
    "Pawan Negi\n",
    "Tim Southee\n"
   ]
  }
 ],
 "metadata": {
  "kernelspec": {
   "display_name": "Python 3",
   "language": "python",
   "name": "python3"
  },
  "language_info": {
   "codemirror_mode": {
    "name": "ipython",
    "version": 3
   },
   "file_extension": ".py",
   "mimetype": "text/x-python",
   "name": "python",
   "nbconvert_exporter": "python",
   "pygments_lexer": "ipython3",
   "version": "3.7.4"
  }
 },
 "nbformat": 4,
 "nbformat_minor": 2
}
